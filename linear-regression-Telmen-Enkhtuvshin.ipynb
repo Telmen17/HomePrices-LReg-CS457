{
 "cells": [
  {
   "cell_type": "markdown",
   "metadata": {},
   "source": [
    "# Machine Learning With Python: Linear Regression With One Variable"
   ]
  },
  {
   "cell_type": "markdown",
   "metadata": {},
   "source": [
    "# Example\n",
    "<h3 style=\"color:purple\">Sample problem of predicting home price in monroe, new jersey (USA)</h3>"
   ]
  },
  {
   "cell_type": "markdown",
   "metadata": {},
   "source": [
    "Below table represents current home prices in monroe township based on square feet area, new jersey\n",
    "\n",
    "We're going to use `sklearn` to build our model, you can find the library tool in here [linear model](https://scikit-learn.org/stable/modules/linear_model.html)."
   ]
  },
  {
   "cell_type": "code",
   "execution_count": 1,
   "metadata": {
    "scrolled": true
   },
   "outputs": [
    {
     "data": {
      "text/plain": [
       "['DataBase Management Systems',\n",
       " 'Word Files',\n",
       " 'homeprices.csv',\n",
       " 'Lab3MySQL.zip',\n",
       " 'Assignment 3 .xlsx',\n",
       " 'sat-practice-test-1-digital.pdf',\n",
       " 'Patient Brith Record Request.pdf',\n",
       " 'Book Oct 16, 2024.pdf',\n",
       " 'CS450-NET',\n",
       " 'Joshua-Home_Page.png',\n",
       " 'SIGNUP PAGE.pdf',\n",
       " 'PacketDecode1',\n",
       " 'Winter2025-Statement.pdf',\n",
       " 'Xcode License Agreement.rtf',\n",
       " 'Spring Insurance Receipt.pdf',\n",
       " 'abstract-smooth-brown-wall-background-layout-design-studio-room-web-template-business-report-with-smooth-circle-gradient-color_1258-63515.avif',\n",
       " 'The Witcher 3',\n",
       " 'Winter2025',\n",
       " 'Winter2025-Invoice.jpeg',\n",
       " 'Cover Letter-Telmen Enkhtuvshin.docx',\n",
       " 'ISO-Winter-ConfirmationLetter.pdf',\n",
       " 'gitTest',\n",
       " 'Caffeine-Video.mov',\n",
       " 'Notifications_Page_Design.jpeg',\n",
       " 'Annotated Bibliography',\n",
       " 'CWU-PaymentConfirmation.pdf',\n",
       " 'brown-linear-gradient.avif',\n",
       " 'Mathematical Reasoning Writing and Proof Version 3.pdf',\n",
       " 'PayPath Payment Service Receipt2.pdf',\n",
       " 'Lab1-Calculator_App-Telmen_Enkhtuvshin.docx',\n",
       " 'Important Documents',\n",
       " 'Assignment-3_Telmen_Enkhtuvshin.xlsx',\n",
       " 'HED101',\n",
       " 'Sample_College_Essays.docx',\n",
       " 'Chess Files',\n",
       " 'CS312 LLM Research',\n",
       " 'JavaScript Project',\n",
       " 'CS427_Algorithm_Analysis',\n",
       " 'Assignment 2-Enkhtuvshin.docx',\n",
       " 'GraduationFee-Transaction.pdf',\n",
       " 'Club Recognition Packet-CS_Club.docx',\n",
       " 'CS112 Python Files',\n",
       " 'Voice2.1.m4a',\n",
       " 'Summer_Health_Insurance_Receipt.pdf',\n",
       " 'manim_ForceVideo_terminalCommand.txt',\n",
       " 'PayPath Payment Service Receipt.pdf',\n",
       " 'Club Recognition Packet PDF (1).pdf',\n",
       " 'linear-regression.ipynb',\n",
       " 'Lab2 (1).java',\n",
       " 'NYC Brith Certificate Application.pdf',\n",
       " 'Final-Logo-Mobile.png',\n",
       " 'ISO-Winter-Card.pdf',\n",
       " 'Sololearn Web Development Certificate.pdf',\n",
       " 'Manim_virtual_env_Aug-12_terminal.txt',\n",
       " 'CS380 Exam 1.docx',\n",
       " 'Assignment 1-Enkhtuvshin.docx',\n",
       " 'Food Handler Card.pdf',\n",
       " 'ForceIntro_audio.m4a',\n",
       " 'Terminal Session1-April 4,2024.txt',\n",
       " 'ISO-Receipt-2024.pdf',\n",
       " 'Credit-Card-Authorization.pdf',\n",
       " 'BOOLEAN',\n",
       " 'Annotated Bibliography Sources',\n",
       " 'CCC-Supplemental-2019.pdf',\n",
       " 'jdk-21.0.3.jdk',\n",
       " 'Math 330',\n",
       " '3626292.3626303.pdf',\n",
       " 'BST.java',\n",
       " 'Zoom',\n",
       " 'ISO-Winter-Receipt.pdf',\n",
       " 'Summer_Insurance_Confirmation.pdf',\n",
       " 'BST.pdf',\n",
       " 'Assignment 4_Telmen_Enkhtuvshin.docx',\n",
       " 'PacketDecode1.dSYM',\n",
       " 'CS361-Prin_Lang_Design',\n",
       " 'Physics',\n",
       " 'MyProfileImage.jpeg',\n",
       " '159087-818219570_medium.mp4',\n",
       " 'UML.pdf',\n",
       " 'Fall_2024_Statement.pdf',\n",
       " '81bc3c96-d490-4b8d-a212-1089dba7f6f5.pdf',\n",
       " 'Spring Insurance Confirmation.pdf',\n",
       " '6947400-hd_1280_720_25fps.mp4',\n",
       " 'Spring Insurance Card.pdf',\n",
       " 'Voice1.2.m4a',\n",
       " 'Telmen Spring 2024 Statement.pdf',\n",
       " 'CS380 Files',\n",
       " 'Voice1.m4a',\n",
       " 'Photos',\n",
       " 'Summer_Insurance_Card.pdf',\n",
       " 'Understanding FERPA - Understanding FERPA _ Rise 360.pdf',\n",
       " 'ComArch 312',\n",
       " 'No Records Statement-Error.pdf',\n",
       " 'Confirmation-Letter-2024.pdf',\n",
       " 'Sololearn Java Certificate.pdf',\n",
       " 'git',\n",
       " 'Michael-Brainstorm.docx',\n",
       " 'EZMath-Project-Overview.png',\n",
       " '~$khtuvshin-SurveyLitFinal.docx',\n",
       " 'ISO-Card-2024.pdf',\n",
       " 'CS460-Mobile SWE',\n",
       " 'DE Student Operator Supplemental Questions.pdf']"
      ]
     },
     "execution_count": 1,
     "metadata": {},
     "output_type": "execute_result"
    }
   ],
   "source": [
    "import glob\n",
    "glob.glob('*')"
   ]
  },
  {
   "cell_type": "code",
   "execution_count": 2,
   "metadata": {},
   "outputs": [],
   "source": [
    "import pandas as pd\n",
    "import numpy as np\n",
    "from sklearn import linear_model\n",
    "import matplotlib.pyplot as plt"
   ]
  },
  {
   "cell_type": "code",
   "execution_count": 3,
   "metadata": {},
   "outputs": [
    {
     "data": {
      "text/html": [
       "<div>\n",
       "<style scoped>\n",
       "    .dataframe tbody tr th:only-of-type {\n",
       "        vertical-align: middle;\n",
       "    }\n",
       "\n",
       "    .dataframe tbody tr th {\n",
       "        vertical-align: top;\n",
       "    }\n",
       "\n",
       "    .dataframe thead th {\n",
       "        text-align: right;\n",
       "    }\n",
       "</style>\n",
       "<table border=\"1\" class=\"dataframe\">\n",
       "  <thead>\n",
       "    <tr style=\"text-align: right;\">\n",
       "      <th></th>\n",
       "      <th>area</th>\n",
       "      <th>price</th>\n",
       "    </tr>\n",
       "  </thead>\n",
       "  <tbody>\n",
       "    <tr>\n",
       "      <th>0</th>\n",
       "      <td>2600</td>\n",
       "      <td>550000</td>\n",
       "    </tr>\n",
       "    <tr>\n",
       "      <th>1</th>\n",
       "      <td>3000</td>\n",
       "      <td>565000</td>\n",
       "    </tr>\n",
       "    <tr>\n",
       "      <th>2</th>\n",
       "      <td>3200</td>\n",
       "      <td>610000</td>\n",
       "    </tr>\n",
       "    <tr>\n",
       "      <th>3</th>\n",
       "      <td>3600</td>\n",
       "      <td>680000</td>\n",
       "    </tr>\n",
       "    <tr>\n",
       "      <th>4</th>\n",
       "      <td>4000</td>\n",
       "      <td>725000</td>\n",
       "    </tr>\n",
       "  </tbody>\n",
       "</table>\n",
       "</div>"
      ],
      "text/plain": [
       "   area   price\n",
       "0  2600  550000\n",
       "1  3000  565000\n",
       "2  3200  610000\n",
       "3  3600  680000\n",
       "4  4000  725000"
      ]
     },
     "execution_count": 3,
     "metadata": {},
     "output_type": "execute_result"
    }
   ],
   "source": [
    "# read csv file by pandas\n",
    "df = pd.read_csv('homeprices.csv')\n",
    "df"
   ]
  },
  {
   "cell_type": "code",
   "execution_count": 5,
   "metadata": {},
   "outputs": [
    {
     "data": {
      "image/png": "[encoded data removed]",
      "text/plain": [
       "<Figure size 640x480 with 1 Axes>"
      ]
     },
     "metadata": {},
     "output_type": "display_data"
    }
   ],
   "source": [
    "# Visualizing the distribution of housing prices\n",
    "# we use the scatter chart in here\n",
    "%matplotlib inline\n",
    "plt.xlabel('area', fontsize = 14)\n",
    "plt.ylabel('price', fontsize = 14)\n",
    "plt.scatter(df.area,df.price,color='red',marker='+')\n",
    "plt.grid()\n",
    "plt.show()"
   ]
  },
  {
   "cell_type": "code",
   "execution_count": 6,
   "metadata": {},
   "outputs": [
    {
     "data": {
      "text/html": [
       "<div>\n",
       "<style scoped>\n",
       "    .dataframe tbody tr th:only-of-type {\n",
       "        vertical-align: middle;\n",
       "    }\n",
       "\n",
       "    .dataframe tbody tr th {\n",
       "        vertical-align: top;\n",
       "    }\n",
       "\n",
       "    .dataframe thead th {\n",
       "        text-align: right;\n",
       "    }\n",
       "</style>\n",
       "<table border=\"1\" class=\"dataframe\">\n",
       "  <thead>\n",
       "    <tr style=\"text-align: right;\">\n",
       "      <th></th>\n",
       "      <th>area</th>\n",
       "    </tr>\n",
       "  </thead>\n",
       "  <tbody>\n",
       "    <tr>\n",
       "      <th>0</th>\n",
       "      <td>2600</td>\n",
       "    </tr>\n",
       "    <tr>\n",
       "      <th>1</th>\n",
       "      <td>3000</td>\n",
       "    </tr>\n",
       "    <tr>\n",
       "      <th>2</th>\n",
       "      <td>3200</td>\n",
       "    </tr>\n",
       "    <tr>\n",
       "      <th>3</th>\n",
       "      <td>3600</td>\n",
       "    </tr>\n",
       "    <tr>\n",
       "      <th>4</th>\n",
       "      <td>4000</td>\n",
       "    </tr>\n",
       "  </tbody>\n",
       "</table>\n",
       "</div>"
      ],
      "text/plain": [
       "   area\n",
       "0  2600\n",
       "1  3000\n",
       "2  3200\n",
       "3  3600\n",
       "4  4000"
      ]
     },
     "execution_count": 6,
     "metadata": {},
     "output_type": "execute_result"
    }
   ],
   "source": [
    "# We try to remove the price value from dataframe table and save it to area_df\n",
    "area_df = df.drop('price',axis='columns')\n",
    "area_df"
   ]
  },
  {
   "cell_type": "code",
   "execution_count": 7,
   "metadata": {},
   "outputs": [
    {
     "data": {
      "text/plain": [
       "0    550000\n",
       "1    565000\n",
       "2    610000\n",
       "3    680000\n",
       "4    725000\n",
       "Name: price, dtype: int64"
      ]
     },
     "execution_count": 7,
     "metadata": {},
     "output_type": "execute_result"
    }
   ],
   "source": [
    "#For our original file, the data has not changed. We can still call the price data through df\n",
    "price = df.price\n",
    "price"
   ]
  },
  {
   "cell_type": "markdown",
   "metadata": {},
   "source": [
    "### We will use sklearn.linear_model to train a linear regression model."
   ]
  },
  {
   "cell_type": "code",
   "execution_count": 8,
   "metadata": {},
   "outputs": [],
   "source": [
    "# prepare the training data X = area and Y = price\n",
    "X_train = area_df\n",
    "y_train = price"
   ]
  },
  {
   "cell_type": "code",
   "execution_count": 9,
   "metadata": {},
   "outputs": [
    {
     "data": {
      "text/html": [
       "<div>\n",
       "<style scoped>\n",
       "    .dataframe tbody tr th:only-of-type {\n",
       "        vertical-align: middle;\n",
       "    }\n",
       "\n",
       "    .dataframe tbody tr th {\n",
       "        vertical-align: top;\n",
       "    }\n",
       "\n",
       "    .dataframe thead th {\n",
       "        text-align: right;\n",
       "    }\n",
       "</style>\n",
       "<table border=\"1\" class=\"dataframe\">\n",
       "  <thead>\n",
       "    <tr style=\"text-align: right;\">\n",
       "      <th></th>\n",
       "      <th>area</th>\n",
       "    </tr>\n",
       "  </thead>\n",
       "  <tbody>\n",
       "    <tr>\n",
       "      <th>0</th>\n",
       "      <td>2600</td>\n",
       "    </tr>\n",
       "    <tr>\n",
       "      <th>1</th>\n",
       "      <td>3000</td>\n",
       "    </tr>\n",
       "    <tr>\n",
       "      <th>2</th>\n",
       "      <td>3200</td>\n",
       "    </tr>\n",
       "    <tr>\n",
       "      <th>3</th>\n",
       "      <td>3600</td>\n",
       "    </tr>\n",
       "    <tr>\n",
       "      <th>4</th>\n",
       "      <td>4000</td>\n",
       "    </tr>\n",
       "  </tbody>\n",
       "</table>\n",
       "</div>"
      ],
      "text/plain": [
       "   area\n",
       "0  2600\n",
       "1  3000\n",
       "2  3200\n",
       "3  3600\n",
       "4  4000"
      ]
     },
     "execution_count": 9,
     "metadata": {},
     "output_type": "execute_result"
    }
   ],
   "source": [
    "X_train"
   ]
  },
  {
   "cell_type": "code",
   "execution_count": 10,
   "metadata": {},
   "outputs": [
    {
     "data": {
      "text/plain": [
       "0    550000\n",
       "1    565000\n",
       "2    610000\n",
       "3    680000\n",
       "4    725000\n",
       "Name: price, dtype: int64"
      ]
     },
     "execution_count": 10,
     "metadata": {},
     "output_type": "execute_result"
    }
   ],
   "source": [
    "y_train"
   ]
  },
  {
   "cell_type": "code",
   "execution_count": 11,
   "metadata": {},
   "outputs": [
    {
     "data": {
      "text/html": [
       "<style>#sk-container-id-1 {color: black;}#sk-container-id-1 pre{padding: 0;}#sk-container-id-1 div.sk-toggleable {background-color: white;}#sk-container-id-1 label.sk-toggleable__label {cursor: pointer;display: block;width: 100%;margin-bottom: 0;padding: 0.3em;box-sizing: border-box;text-align: center;}#sk-container-id-1 label.sk-toggleable__label-arrow:before {content: \"▸\";float: left;margin-right: 0.25em;color: #696969;}#sk-container-id-1 label.sk-toggleable__label-arrow:hover:before {color: black;}#sk-container-id-1 div.sk-estimator:hover label.sk-toggleable__label-arrow:before {color: black;}#sk-container-id-1 div.sk-toggleable__content {max-height: 0;max-width: 0;overflow: hidden;text-align: left;background-color: #f0f8ff;}#sk-container-id-1 div.sk-toggleable__content pre {margin: 0.2em;color: black;border-radius: 0.25em;background-color: #f0f8ff;}#sk-container-id-1 input.sk-toggleable__control:checked~div.sk-toggleable__content {max-height: 200px;max-width: 100%;overflow: auto;}#sk-container-id-1 input.sk-toggleable__control:checked~label.sk-toggleable__label-arrow:before {content: \"▾\";}#sk-container-id-1 div.sk-estimator input.sk-toggleable__control:checked~label.sk-toggleable__label {background-color: #d4ebff;}#sk-container-id-1 div.sk-label input.sk-toggleable__control:checked~label.sk-toggleable__label {background-color: #d4ebff;}#sk-container-id-1 input.sk-hidden--visually {border: 0;clip: rect(1px 1px 1px 1px);clip: rect(1px, 1px, 1px, 1px);height: 1px;margin: -1px;overflow: hidden;padding: 0;position: absolute;width: 1px;}#sk-container-id-1 div.sk-estimator {font-family: monospace;background-color: #f0f8ff;border: 1px dotted black;border-radius: 0.25em;box-sizing: border-box;margin-bottom: 0.5em;}#sk-container-id-1 div.sk-estimator:hover {background-color: #d4ebff;}#sk-container-id-1 div.sk-parallel-item::after {content: \"\";width: 100%;border-bottom: 1px solid gray;flex-grow: 1;}#sk-container-id-1 div.sk-label:hover label.sk-toggleable__label {background-color: #d4ebff;}#sk-container-id-1 div.sk-serial::before {content: \"\";position: absolute;border-left: 1px solid gray;box-sizing: border-box;top: 0;bottom: 0;left: 50%;z-index: 0;}#sk-container-id-1 div.sk-serial {display: flex;flex-direction: column;align-items: center;background-color: white;padding-right: 0.2em;padding-left: 0.2em;position: relative;}#sk-container-id-1 div.sk-item {position: relative;z-index: 1;}#sk-container-id-1 div.sk-parallel {display: flex;align-items: stretch;justify-content: center;background-color: white;position: relative;}#sk-container-id-1 div.sk-item::before, #sk-container-id-1 div.sk-parallel-item::before {content: \"\";position: absolute;border-left: 1px solid gray;box-sizing: border-box;top: 0;bottom: 0;left: 50%;z-index: -1;}#sk-container-id-1 div.sk-parallel-item {display: flex;flex-direction: column;z-index: 1;position: relative;background-color: white;}#sk-container-id-1 div.sk-parallel-item:first-child::after {align-self: flex-end;width: 50%;}#sk-container-id-1 div.sk-parallel-item:last-child::after {align-self: flex-start;width: 50%;}#sk-container-id-1 div.sk-parallel-item:only-child::after {width: 0;}#sk-container-id-1 div.sk-dashed-wrapped {border: 1px dashed gray;margin: 0 0.4em 0.5em 0.4em;box-sizing: border-box;padding-bottom: 0.4em;background-color: white;}#sk-container-id-1 div.sk-label label {font-family: monospace;font-weight: bold;display: inline-block;line-height: 1.2em;}#sk-container-id-1 div.sk-label-container {text-align: center;}#sk-container-id-1 div.sk-container {/* jupyter's `normalize.less` sets `[hidden] { display: none; }` but bootstrap.min.css set `[hidden] { display: none !important; }` so we also need the `!important` here to be able to override the default hidden behavior on the sphinx rendered scikit-learn.org. See: https://github.com/scikit-learn/scikit-learn/issues/21755 */display: inline-block !important;position: relative;}#sk-container-id-1 div.sk-text-repr-fallback {display: none;}</style><div id=\"sk-container-id-1\" class=\"sk-top-container\"><div class=\"sk-text-repr-fallback\"><pre>LinearRegression()</pre><b>In a Jupyter environment, please rerun this cell to show the HTML representation or trust the notebook. <br />On GitHub, the HTML representation is unable to render, please try loading this page with nbviewer.org.</b></div><div class=\"sk-container\" hidden><div class=\"sk-item\"><div class=\"sk-estimator sk-toggleable\"><input class=\"sk-toggleable__control sk-hidden--visually\" id=\"sk-estimator-id-1\" type=\"checkbox\" checked><label for=\"sk-estimator-id-1\" class=\"sk-toggleable__label sk-toggleable__label-arrow\">LinearRegression</label><div class=\"sk-toggleable__content\"><pre>LinearRegression()</pre></div></div></div></div></div>"
      ],
      "text/plain": [
       "LinearRegression()"
      ]
     },
     "execution_count": 11,
     "metadata": {},
     "output_type": "execute_result"
    }
   ],
   "source": [
    "# Create linear regression object\n",
    "reg = linear_model.LinearRegression()\n",
    "reg.fit(X_train,y_train)"
   ]
  },
  {
   "cell_type": "markdown",
   "metadata": {},
   "source": [
    "### After training, we use the trained model to make predictions\n",
    "**(1) Predict price of a home with area = 3300 sqr ft**"
   ]
  },
  {
   "cell_type": "code",
   "execution_count": 12,
   "metadata": {
    "scrolled": true
   },
   "outputs": [
    {
     "name": "stderr",
     "output_type": "stream",
     "text": [
      "/Users/nestsolutions/anaconda3/lib/python3.11/site-packages/sklearn/base.py:464: UserWarning: X does not have valid feature names, but LinearRegression was fitted with feature names\n",
      "  warnings.warn(\n"
     ]
    },
    {
     "data": {
      "text/plain": [
       "array([628715.75342466])"
      ]
     },
     "execution_count": 12,
     "metadata": {},
     "output_type": "execute_result"
    }
   ],
   "source": [
    "# The input value is area, \n",
    "# The trained model will give us the corresponding house price.\n",
    "\n",
    "reg.predict([[3300]])"
   ]
  },
  {
   "cell_type": "markdown",
   "metadata": {},
   "source": [
    "Let's look at the parameters of linear regression\n",
    "$$y = m*x + b$$\n",
    "\n",
    "Where **m** is the coefficient and **b** is the intercept"
   ]
  },
  {
   "cell_type": "code",
   "execution_count": 13,
   "metadata": {},
   "outputs": [
    {
     "data": {
      "text/plain": [
       "array([135.78767123])"
      ]
     },
     "execution_count": 13,
     "metadata": {},
     "output_type": "execute_result"
    }
   ],
   "source": [
    "# check the m (coefficient) or slope\n",
    "reg.coef_"
   ]
  },
  {
   "cell_type": "code",
   "execution_count": 14,
   "metadata": {
    "scrolled": true
   },
   "outputs": [
    {
     "data": {
      "text/plain": [
       "180616.43835616432"
      ]
     },
     "execution_count": 14,
     "metadata": {},
     "output_type": "execute_result"
    }
   ],
   "source": [
    "# check the b (intercept)\n",
    "reg.intercept_"
   ]
  },
  {
   "cell_type": "code",
   "execution_count": null,
   "metadata": {},
   "outputs": [],
   "source": []
  },
  {
   "cell_type": "code",
   "execution_count": 15,
   "metadata": {
    "scrolled": true
   },
   "outputs": [
    {
     "data": {
      "text/plain": [
       "628715.7534151643"
      ]
     },
     "execution_count": 15,
     "metadata": {},
     "output_type": "execute_result"
    }
   ],
   "source": [
    "# Y = m * X + b (m is coefficient and b is intercept)\n",
    "135.78767123 * 3300 + 180616.43835616432"
   ]
  },
  {
   "cell_type": "markdown",
   "metadata": {},
   "source": [
    "**(1) Predict price of a home with area = 5000 sqr ft**"
   ]
  },
  {
   "cell_type": "code",
   "execution_count": 16,
   "metadata": {},
   "outputs": [
    {
     "name": "stderr",
     "output_type": "stream",
     "text": [
      "/Users/nestsolutions/anaconda3/lib/python3.11/site-packages/sklearn/base.py:464: UserWarning: X does not have valid feature names, but LinearRegression was fitted with feature names\n",
      "  warnings.warn(\n"
     ]
    },
    {
     "data": {
      "text/plain": [
       "array([859554.79452055])"
      ]
     },
     "execution_count": 16,
     "metadata": {},
     "output_type": "execute_result"
    }
   ],
   "source": [
    "reg.predict([[5000]])"
   ]
  },
  {
   "cell_type": "markdown",
   "metadata": {},
   "source": [
    "### Visualize the results"
   ]
  },
  {
   "cell_type": "code",
   "execution_count": 23,
   "metadata": {},
   "outputs": [
    {
     "data": {
      "image/png": "[encoded data removed]",
      "text/plain": [
       "<Figure size 640x480 with 1 Axes>"
      ]
     },
     "metadata": {},
     "output_type": "display_data"
    }
   ],
   "source": [
    "# Visualizing the training set\n",
    "plt.scatter(X_train, y_train, color = 'red', label = 'Actual')\n",
    "# plt.scatter(X_train, reg.predict(X_train), color = 'blue')\n",
    "plt.plot(X_train, reg.predict(X_train), color = 'blue', label = 'Predicted')\n",
    "plt.title('Telmen Enkhtuvshin Area vs price')\n",
    "plt.xlabel('Area')\n",
    "plt.ylabel('Price')\n",
    "plt.grid(alpha=0.4)\n",
    "plt.legend()\n",
    "plt.show()"
   ]
  },
  {
   "cell_type": "markdown",
   "metadata": {},
   "source": [
    "# What Makes Linear Regression Understandable? \n",
    "Linear regression is easy to understand because it generates a straight line that models the relationship between variables. The method uses the cost function, specifically [mean squared error](https://en.wikipedia.org/wiki/Mean_squared_error) (MSE), to calculate the average distance of each data point from the line. By iteratively adjusting the line's slope and intercept, linear regression minimizes this distance, ensuring the line fits the data as accurately as possible.\n",
    "\n",
    "Intuitively, MSE represents an aggregation of the distances between point's actual y value and what a hypothesis function $h_\\theta(x)$ predicted it would be.  \n",
    "\n",
    "\\begin{align}\n",
    "h_\\theta(x) & = \\theta_0 + \\theta_1x_1 \\\\\n",
    "\\end{align}\n",
    "\n",
    "\n",
    "That hypothesis function and the cost function $J(\\theta)$ are defined as\n",
    "\\begin{align}\n",
    "J(\\theta) & = \\frac{1}{2m}\\sum\\limits_{i = 1}^{m}(h_\\theta(x^{(i)}) - y^{(i)})^2\n",
    "\\end{align}\n",
    "\n",
    "where $\\theta$ is a vector of feature weights, $x^{(i)}$ is the ith training example, $y^{(i)}$ is that example's y value, and $x_j$ is the value for its jth feature."
   ]
  },
  {
   "cell_type": "code",
   "execution_count": 24,
   "metadata": {},
   "outputs": [],
   "source": [
    "import numpy as np\n",
    "\n",
    "def compute_cost(X, y, theta):\n",
    "    return np.sum(np.square(np.dot(X, theta) - y)) / (2 * len(y))"
   ]
  },
  {
   "cell_type": "markdown",
   "metadata": {},
   "source": [
    "Before computing the cost with an initial guess for $\\theta$, a column of 1s is prepended onto the input data.  This allows us to vectorize the cost function, as well as make it usable for multiple linear regression later.  This first value $\\theta_0$ now behaves as a constant in the cost function."
   ]
  },
  {
   "cell_type": "code",
   "execution_count": 30,
   "metadata": {},
   "outputs": [
    {
     "name": "stdout",
     "output_type": "stream",
     "text": [
      "theta: [0. 0.]\n",
      "cost: 198185.0\n"
     ]
    }
   ],
   "source": [
    "theta = np.zeros(2) # we need two parameters -  Slope and Intercept\n",
    "\n",
    "X = np.column_stack((np.ones(len(area_df)), area_df/1000))\n",
    "y = price/1000\n",
    "cost = compute_cost(X, y, theta)\n",
    "\n",
    "print('theta:', theta)\n",
    "print('cost:', cost)"
   ]
  },
  {
   "cell_type": "code",
   "execution_count": 32,
   "metadata": {},
   "outputs": [
    {
     "data": {
      "text/plain": [
       "(array([[1. , 2.6],\n",
       "        [1. , 3. ],\n",
       "        [1. , 3.2],\n",
       "        [1. , 3.6],\n",
       "        [1. , 4. ]]),\n",
       " 0    550.0\n",
       " 1    565.0\n",
       " 2    610.0\n",
       " 3    680.0\n",
       " 4    725.0\n",
       " Name: price, dtype: float64)"
      ]
     },
     "execution_count": 32,
     "metadata": {},
     "output_type": "execute_result"
    }
   ],
   "source": [
    "X, y"
   ]
  },
  {
   "cell_type": "code",
   "execution_count": 27,
   "metadata": {},
   "outputs": [
    {
     "data": {
      "text/plain": [
       "(array([1., 1., 1., 1., 1.]),\n",
       "    area\n",
       " 0   2.6\n",
       " 1   3.0\n",
       " 2   3.2\n",
       " 3   3.6\n",
       " 4   4.0)"
      ]
     },
     "execution_count": 27,
     "metadata": {},
     "output_type": "execute_result"
    }
   ],
   "source": [
    "np.ones(len(area_df)), area_df/1000"
   ]
  },
  {
   "cell_type": "code",
   "execution_count": 28,
   "metadata": {},
   "outputs": [
    {
     "data": {
      "text/plain": [
       "array([[1, 2],\n",
       "       [2, 3],\n",
       "       [3, 4]])"
      ]
     },
     "execution_count": 28,
     "metadata": {},
     "output_type": "execute_result"
    }
   ],
   "source": [
    "# Example for column_stack\n",
    "import numpy as np\n",
    "a = np.array((1,2,3))\n",
    "b = np.array((2,3,4))\n",
    "\n",
    "np.column_stack((a,b))"
   ]
  },
  {
   "cell_type": "markdown",
   "metadata": {},
   "source": [
    "We'll now minimize the cost using the [gradient descent](https://en.wikipedia.org/wiki/Gradient_descent) algorithm.  Intuitively, gradient descent takes small, linear hops down the slope of a function in each feature dimension, with the size of each hop determined by the partial derivative of the cost function with respect to that feature and a learning rate multiplier $\\alpha$.  If tuned properly, the algorithm converges on a global minimum by iteratively adjusting feature weights $\\theta$ of the cost function, as shown here for two feature dimensions:\n",
    "\n",
    "\\begin{align}\n",
    "\\theta_0 & := \\theta_0 - \\alpha\\frac{\\partial}{\\partial\\theta_0} J(\\theta_0,\\theta_1) \\\\\n",
    "\\theta_1 & := \\theta_1 - \\alpha\\frac{\\partial}{\\partial\\theta_1} J(\\theta_0,\\theta_1) \n",
    "\\end{align}\n",
    "\n",
    "The update rule each iteration then becomes:\n",
    "\n",
    "\\begin{align}\n",
    "\\theta_0 & := \\theta_0 - \\alpha\\frac{1}{m} \\sum_{i=1}^m (h_\\theta(x^{(i)})-y^{(i)}) \\\\\n",
    "\\theta_1 & := \\theta_1 - \\alpha\\frac{1}{m} \\sum_{i=1}^m (h_\\theta(x^{(i)})-y^{(i)})x_1^{(i)} \\\\\n",
    "\\end{align}\n"
   ]
  },
  {
   "cell_type": "code",
   "execution_count": 34,
   "metadata": {},
   "outputs": [
    {
     "data": {
      "text/plain": [
       "array([2.6, 3. , 3.2, 3.6, 4. ])"
      ]
     },
     "execution_count": 34,
     "metadata": {},
     "output_type": "execute_result"
    }
   ],
   "source": [
    "X[:, 1]"
   ]
  },
  {
   "cell_type": "code",
   "execution_count": 37,
   "metadata": {},
   "outputs": [
    {
     "name": "stdout",
     "output_type": "stream",
     "text": [
      "theta: [180.60905845 135.78987731]\n",
      "cost: 93.40753482537907\n"
     ]
    }
   ],
   "source": [
    "# Define the gradient descent function\n",
    "def gradient_descent(X, y, alpha, iterations):\n",
    "    \"\"\"\n",
    "    Performs gradient descent to minimize the cost function and find the optimal parameters.\n",
    "    \n",
    "    Parameters:\n",
    "    X: ndarray\n",
    "        Input feature matrix, where rows are samples and columns are features.\n",
    "    y: ndarray\n",
    "        Target values corresponding to the input data.\n",
    "    alpha: float\n",
    "        Learning rate to control the step size of parameter updates.\n",
    "    iterations: int\n",
    "        Number of iterations to run gradient descent.\n",
    "\n",
    "    Returns:\n",
    "    theta: ndarray\n",
    "        Optimized parameters for the linear model.\n",
    "    \"\"\"\n",
    "    theta = np.zeros(2)  # Initialize theta with zeros (2 parameters for simple linear regression)\n",
    "    m = len(y)           # Number of training examples\n",
    "\n",
    "    # Iterate to update theta\n",
    "    for i in range(iterations):\n",
    "        # Update theta[0] (intercept term) using the gradient of the cost function\n",
    "        t0 = theta[0] - (alpha / m) * np.sum(np.dot(X, theta) - y)\n",
    "        \n",
    "        # Update theta[1] (slope term) using the gradient of the cost function\n",
    "        t1 = theta[1] - (alpha / m) * np.sum((np.dot(X, theta) - y) * X[:, 1])\n",
    "        \n",
    "        # Update theta as a new array with the computed values\n",
    "        theta = np.array([t0, t1])\n",
    "\n",
    "    return theta\n",
    "\n",
    "# Number of iterations for gradient descent\n",
    "iterations = 5000\n",
    "\n",
    "# Learning rate for gradient descent\n",
    "alpha = 0.1\n",
    "\n",
    "# Call the gradient descent function to compute optimized parameters\n",
    "theta = gradient_descent(X, y, alpha, iterations)\n",
    "\n",
    "# Compute the cost using the optimized parameters\n",
    "cost = compute_cost(X, y, theta)\n",
    "\n",
    "# Print the results\n",
    "print(\"theta:\", theta)  # Optimized values for theta (intercept and slope)\n",
    "print('cost:', compute_cost(X, y, theta))  # Final cost value to evaluate the fit\n"
   ]
  },
  {
   "cell_type": "code",
   "execution_count": 46,
   "metadata": {},
   "outputs": [
    {
     "data": {
      "image/png": "[encoded data removed]",
      "text/plain": [
       "<Figure size 640x480 with 1 Axes>"
      ]
     },
     "metadata": {},
     "output_type": "display_data"
    }
   ],
   "source": [
    "plt.scatter(area_df, price, marker='x', color='red', label = 'Actual')\n",
    "samples = np.linspace(np.min(area_df), np.max(area_df))\n",
    "plt.plot(samples, theta[0]*1000 + theta[1] * samples,color = 'blue', label = 'Predicted - GD')\n",
    "\n",
    "# plt.plot(X_train, reg.predict(X_train), color = 'Green')\n",
    "plt.title('Telmen Enkhtuvshin Area vs price')\n",
    "plt.xlabel('Area', fontsize = 14)\n",
    "plt.ylabel('Price', fontsize = 14)\n",
    "plt.grid(alpha=0.4)\n",
    "plt.legend()\n",
    "plt.show()"
   ]
  },
  {
   "cell_type": "code",
   "execution_count": 39,
   "metadata": {},
   "outputs": [
    {
     "data": {
      "text/plain": [
       "array([2600.        , 2628.57142857, 2657.14285714, 2685.71428571,\n",
       "       2714.28571429, 2742.85714286, 2771.42857143, 2800.        ,\n",
       "       2828.57142857, 2857.14285714, 2885.71428571, 2914.28571429,\n",
       "       2942.85714286, 2971.42857143, 3000.        , 3028.57142857,\n",
       "       3057.14285714, 3085.71428571, 3114.28571429, 3142.85714286,\n",
       "       3171.42857143, 3200.        , 3228.57142857, 3257.14285714,\n",
       "       3285.71428571, 3314.28571429, 3342.85714286, 3371.42857143,\n",
       "       3400.        , 3428.57142857, 3457.14285714, 3485.71428571,\n",
       "       3514.28571429, 3542.85714286, 3571.42857143, 3600.        ,\n",
       "       3628.57142857, 3657.14285714, 3685.71428571, 3714.28571429,\n",
       "       3742.85714286, 3771.42857143, 3800.        , 3828.57142857,\n",
       "       3857.14285714, 3885.71428571, 3914.28571429, 3942.85714286,\n",
       "       3971.42857143, 4000.        ])"
      ]
     },
     "execution_count": 39,
     "metadata": {},
     "output_type": "execute_result"
    }
   ],
   "source": [
    "samples"
   ]
  },
  {
   "cell_type": "code",
   "execution_count": null,
   "metadata": {},
   "outputs": [],
   "source": []
  }
 ],
 "metadata": {
  "kernelspec": {
   "display_name": "Python 3 (ipykernel)",
   "language": "python",
   "name": "python3"
  },
  "language_info": {
   "codemirror_mode": {
    "name": "ipython",
    "version": 3
   },
   "file_extension": ".py",
   "mimetype": "text/x-python",
   "name": "python",
   "nbconvert_exporter": "python",
   "pygments_lexer": "ipython3",
   "version": "3.11.5"
  }
 },
 "nbformat": 4,
 "nbformat_minor": 4
}
